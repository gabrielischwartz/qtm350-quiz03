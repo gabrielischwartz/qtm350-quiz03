{
 "cells": [
  {
   "cell_type": "code",
   "execution_count": 27,
   "metadata": {},
   "outputs": [
    {
     "name": "stdout",
     "output_type": "stream",
     "text": [
      "Emory ID: 12345678\n"
     ]
    }
   ],
   "source": [
    "# Print your Emory ID here\n",
    "print(\"Emory ID: 12345678\")"
   ]
  },
  {
   "cell_type": "code",
   "execution_count": 28,
   "metadata": {},
   "outputs": [],
   "source": [
    "# Import the necessary libraries and load the data\n",
    "\n",
    "import pandas as pd\n",
    "df = pd.read_csv(\"passwords.csv\")"
   ]
  },
  {
   "cell_type": "markdown",
   "metadata": {},
   "source": [
    "1. An online password attack is when someone tries to hack your account by simply trying a very large number of username/password combinations to access your account. For each `password` in our dataset, the `value` column shows the amount of time it is estimated to take an “online password attack” to hack your account. The column `time_unit` shows the units of that time value (e.g., hours, days, years, etc.). It would be much nicer if our values were of the same units so we can more easily compare the “online password guessing time” for each password. So your first task is to convert all of the values to units of hours (assume the conversion units provided below, e.g., 1 day is 24 hours, 1 week is 168 hours, etc)."
   ]
  },
  {
   "cell_type": "code",
   "execution_count": 31,
   "metadata": {},
   "outputs": [
    {
     "data": {
      "text/html": [
       "<div>\n",
       "<style scoped>\n",
       "    .dataframe tbody tr th:only-of-type {\n",
       "        vertical-align: middle;\n",
       "    }\n",
       "\n",
       "    .dataframe tbody tr th {\n",
       "        vertical-align: top;\n",
       "    }\n",
       "\n",
       "    .dataframe thead th {\n",
       "        text-align: right;\n",
       "    }\n",
       "</style>\n",
       "<table border=\"1\" class=\"dataframe\">\n",
       "  <thead>\n",
       "    <tr style=\"text-align: right;\">\n",
       "      <th></th>\n",
       "      <th>rank</th>\n",
       "      <th>password</th>\n",
       "      <th>category</th>\n",
       "      <th>value</th>\n",
       "      <th>time_unit</th>\n",
       "      <th>offline_crack_sec</th>\n",
       "      <th>rank_alt</th>\n",
       "      <th>strength</th>\n",
       "      <th>font_size</th>\n",
       "      <th>value_in_hours</th>\n",
       "    </tr>\n",
       "  </thead>\n",
       "  <tbody>\n",
       "    <tr>\n",
       "      <th>0</th>\n",
       "      <td>1.0</td>\n",
       "      <td>password</td>\n",
       "      <td>password-related</td>\n",
       "      <td>6.91</td>\n",
       "      <td>years</td>\n",
       "      <td>2.170000e+00</td>\n",
       "      <td>1.0</td>\n",
       "      <td>8.0</td>\n",
       "      <td>11.0</td>\n",
       "      <td>60531.600000</td>\n",
       "    </tr>\n",
       "    <tr>\n",
       "      <th>1</th>\n",
       "      <td>2.0</td>\n",
       "      <td>123456</td>\n",
       "      <td>simple-alphanumeric</td>\n",
       "      <td>18.52</td>\n",
       "      <td>minutes</td>\n",
       "      <td>1.110000e-05</td>\n",
       "      <td>2.0</td>\n",
       "      <td>4.0</td>\n",
       "      <td>8.0</td>\n",
       "      <td>0.308667</td>\n",
       "    </tr>\n",
       "    <tr>\n",
       "      <th>2</th>\n",
       "      <td>3.0</td>\n",
       "      <td>12345678</td>\n",
       "      <td>simple-alphanumeric</td>\n",
       "      <td>1.29</td>\n",
       "      <td>days</td>\n",
       "      <td>1.110000e-03</td>\n",
       "      <td>3.0</td>\n",
       "      <td>4.0</td>\n",
       "      <td>8.0</td>\n",
       "      <td>30.960000</td>\n",
       "    </tr>\n",
       "    <tr>\n",
       "      <th>3</th>\n",
       "      <td>4.0</td>\n",
       "      <td>1234</td>\n",
       "      <td>simple-alphanumeric</td>\n",
       "      <td>11.11</td>\n",
       "      <td>seconds</td>\n",
       "      <td>1.110000e-07</td>\n",
       "      <td>4.0</td>\n",
       "      <td>4.0</td>\n",
       "      <td>8.0</td>\n",
       "      <td>0.003086</td>\n",
       "    </tr>\n",
       "    <tr>\n",
       "      <th>4</th>\n",
       "      <td>5.0</td>\n",
       "      <td>qwerty</td>\n",
       "      <td>simple-alphanumeric</td>\n",
       "      <td>3.72</td>\n",
       "      <td>days</td>\n",
       "      <td>3.210000e-03</td>\n",
       "      <td>5.0</td>\n",
       "      <td>8.0</td>\n",
       "      <td>11.0</td>\n",
       "      <td>89.280000</td>\n",
       "    </tr>\n",
       "  </tbody>\n",
       "</table>\n",
       "</div>"
      ],
      "text/plain": [
       "   rank  password             category  value time_unit  offline_crack_sec  \\\n",
       "0   1.0  password     password-related   6.91     years       2.170000e+00   \n",
       "1   2.0    123456  simple-alphanumeric  18.52   minutes       1.110000e-05   \n",
       "2   3.0  12345678  simple-alphanumeric   1.29      days       1.110000e-03   \n",
       "3   4.0      1234  simple-alphanumeric  11.11   seconds       1.110000e-07   \n",
       "4   5.0    qwerty  simple-alphanumeric   3.72      days       3.210000e-03   \n",
       "\n",
       "   rank_alt  strength  font_size  value_in_hours  \n",
       "0       1.0       8.0       11.0    60531.600000  \n",
       "1       2.0       4.0        8.0        0.308667  \n",
       "2       3.0       4.0        8.0       30.960000  \n",
       "3       4.0       4.0        8.0        0.003086  \n",
       "4       5.0       8.0       11.0       89.280000  "
      ]
     },
     "execution_count": 31,
     "metadata": {},
     "output_type": "execute_result"
    }
   ],
   "source": [
    "# Your answer here \n",
    "\n",
    "units = {\n",
    "    \"seconds\": 1 / 3600,\n",
    "    \"minutes\": 1 / 60,\n",
    "    \"hours\": 1,\n",
    "    \"days\": 24,\n",
    "    \"weeks\": 168,\n",
    "    \"months\": 720,\n",
    "    \"years\": 8760,\n",
    "}\n",
    "# Convert all values to hours for easier comparison\n",
    "def convert_to_hours(row):\n",
    "    if pd.notna(row['value']) and pd.notna(row['time_unit']):\n",
    "        return row['value'] * units[row['time_unit']]\n",
    "    return None\n",
    "\n",
    "df.loc[:, 'value_in_hours'] = df.apply(convert_to_hours, axis=1)\n",
    "df.head()"
   ]
  },
  {
   "cell_type": "markdown",
   "metadata": {},
   "source": [
    "2. Are there any missing values in the dataset? If so, how many? After you have counted the, please drop them from the dataset."
   ]
  },
  {
   "cell_type": "code",
   "execution_count": 32,
   "metadata": {},
   "outputs": [
    {
     "name": "stdout",
     "output_type": "stream",
     "text": [
      "Missing values in each column:\n",
      " rank                 7\n",
      "password             7\n",
      "category             7\n",
      "value                7\n",
      "time_unit            7\n",
      "offline_crack_sec    7\n",
      "rank_alt             7\n",
      "strength             7\n",
      "font_size            7\n",
      "value_in_hours       7\n",
      "dtype: int64\n"
     ]
    }
   ],
   "source": [
    "# Your answer here\n",
    "# Count the missing values\n",
    "missing_values_count = df.isna().sum()\n",
    "print(\"Missing values in each column:\\n\", missing_values_count)\n",
    "\n",
    "# Drop the rows with missing values\n",
    "df.dropna(inplace=True)"
   ]
  },
  {
   "cell_type": "markdown",
   "metadata": {},
   "source": [
    "3. Which password category has the highest average strength?\n"
   ]
  },
  {
   "cell_type": "code",
   "execution_count": 40,
   "metadata": {},
   "outputs": [
    {
     "data": {
      "text/plain": [
       "'nerdy-pop'"
      ]
     },
     "execution_count": 40,
     "metadata": {},
     "output_type": "execute_result"
    }
   ],
   "source": [
    "# Your answer here\n",
    "df.groupby(\"category\").mean(numeric_only=True)['strength'].idxmax()\n"
   ]
  },
  {
   "cell_type": "markdown",
   "metadata": {},
   "source": [
    "4. What is the rank of the password 'qwerty'?"
   ]
  },
  {
   "cell_type": "code",
   "execution_count": 45,
   "metadata": {},
   "outputs": [
    {
     "name": "stdout",
     "output_type": "stream",
     "text": [
      "the rank of password 'qwerty' is,4    5.0\n",
      "Name: rank, dtype: float64\n"
     ]
    }
   ],
   "source": [
    "# Your answer here\n",
    "rank = df[df[\"password\"] == \"qwerty\"][\"rank\"]\n",
    "\n",
    "print(\"the rank of password 'qwerty' is,\" + str(rank))\n",
    "\n"
   ]
  },
  {
   "cell_type": "markdown",
   "metadata": {},
   "source": [
    "5. How many passwords have more than 8 characters?"
   ]
  },
  {
   "cell_type": "code",
   "execution_count": 49,
   "metadata": {},
   "outputs": [
    {
     "data": {
      "text/plain": [
       "1"
      ]
     },
     "execution_count": 49,
     "metadata": {},
     "output_type": "execute_result"
    }
   ],
   "source": [
    "# Your answer here\n",
    "len(df[df['password'].str.len() > 8])\n"
   ]
  },
  {
   "cell_type": "markdown",
   "metadata": {},
   "source": [
    "6. How many passwords do not contain a number?"
   ]
  },
  {
   "cell_type": "code",
   "execution_count": 52,
   "metadata": {},
   "outputs": [
    {
     "data": {
      "text/plain": [
       "446"
      ]
     },
     "execution_count": 52,
     "metadata": {},
     "output_type": "execute_result"
    }
   ],
   "source": [
    "# Your answer here\n",
    "\n",
    "len(df[~df['password'].str.contains(r'\\d')])\n"
   ]
  },
  {
   "cell_type": "markdown",
   "metadata": {},
   "source": [
    "7. What is the average time in hours needed to crack these passwords that begin with `123`? How does this compare to the average of all passwords in the dataset?"
   ]
  },
  {
   "cell_type": "code",
   "execution_count": 56,
   "metadata": {},
   "outputs": [
    {
     "name": "stdout",
     "output_type": "stream",
     "text": [
      "Average time to crack passwords starting with '123': 107.30 hours\n",
      "Average time to crack all passwords: 13917.57 hours\n"
     ]
    }
   ],
   "source": [
    "# Your answer here\n",
    "\n",
    "# Calculate the average time in hours needed to crack passwords that begin with '123'\n",
    "avg_time_123 = df[df['password'].str.startswith('123')]['value_in_hours'].mean()\n",
    "\n",
    "# Calculate the average time in hours needed to crack all passwords in the dataset\n",
    "avg_time_all = df['value_in_hours'].mean()\n",
    "\n",
    "print(f\"Average time to crack passwords starting with '123': {avg_time_123:.2f} hours\")\n",
    "print(f\"Average time to crack all passwords: {avg_time_all:.2f} hours\")"
   ]
  },
  {
   "cell_type": "markdown",
   "metadata": {},
   "source": [
    "8. What percentage of passwords are of the `simple-alphanumeric` category?"
   ]
  },
  {
   "cell_type": "code",
   "execution_count": 54,
   "metadata": {},
   "outputs": [
    {
     "name": "stdout",
     "output_type": "stream",
     "text": [
      "Percentage of passwords in the 'simple-alphanumeric' category: 12.20%\n"
     ]
    }
   ],
   "source": [
    "# Your answer here\n",
    "simple_alphanumeric_count = len(df[df['category'] == 'simple-alphanumeric'])\n",
    "total_passwords = len(df)\n",
    "percentage_simple_alphanumeric = (simple_alphanumeric_count / total_passwords) * 100\n",
    "\n",
    "print(f\"Percentage of passwords in the 'simple-alphanumeric' category: {percentage_simple_alphanumeric:.2f}%\")"
   ]
  },
  {
   "cell_type": "markdown",
   "metadata": {},
   "source": [
    "9. How many passwords have a strength rating below 5? What is their percentage?"
   ]
  },
  {
   "cell_type": "code",
   "execution_count": 62,
   "metadata": {},
   "outputs": [
    {
     "name": "stdout",
     "output_type": "stream",
     "text": [
      "Percentage of passwords with a strength of less than 5: 14.60%\n"
     ]
    }
   ],
   "source": [
    "# Your answer here\n",
    "\n",
    "weak_passwords = len(df[df['strength'] < 5])\n",
    "\n",
    "print(f\"Percentage of passwords with a strength of less than 5: {(weak_passwords/total_passwords * 100):.2f}%\")"
   ]
  },
  {
   "cell_type": "markdown",
   "metadata": {},
   "source": [
    "10. What is the most common password in the dataset?"
   ]
  },
  {
   "cell_type": "code",
   "execution_count": 87,
   "metadata": {},
   "outputs": [
    {
     "name": "stdout",
     "output_type": "stream",
     "text": [
      "password\n",
      "password    1\n",
      "shadow      1\n",
      "12345678    1\n",
      "1234        1\n",
      "qwerty      1\n",
      "           ..\n",
      "college     1\n",
      "jester      1\n",
      "vampire     1\n",
      "nirvana     1\n",
      "passw0rd    1\n",
      "Name: count, Length: 500, dtype: int64\n",
      "Each password occurs 1 time\n"
     ]
    }
   ],
   "source": [
    "# Your answer here\n",
    "\n",
    "most_common_passwords = df['password'].value_counts().sort_values(ascending=False)\n",
    "\n",
    "print(most_common_passwords)\n",
    "print(\"Each password occurs 1 time\")\n"
   ]
  },
  {
   "cell_type": "markdown",
   "metadata": {},
   "source": [
    "11. How many unique passwords are there in each category, and what is their average length?"
   ]
  },
  {
   "cell_type": "code",
   "execution_count": 89,
   "metadata": {},
   "outputs": [
    {
     "name": "stdout",
     "output_type": "stream",
     "text": [
      "Unique passwords per category:\n",
      " category\n",
      "animal                  29\n",
      "cool-macho              79\n",
      "fluffy                  44\n",
      "food                    11\n",
      "name                   183\n",
      "nerdy-pop               30\n",
      "password-related        15\n",
      "rebellious-rude         11\n",
      "simple-alphanumeric     61\n",
      "sport                   37\n",
      "Name: password, dtype: int64\n",
      "\n",
      "Average length of passwords per category:\n",
      " category\n",
      "animal                 6.206897\n",
      "cool-macho             6.253165\n",
      "fluffy                 5.795455\n",
      "food                   6.090909\n",
      "name                   6.218579\n",
      "nerdy-pop              6.633333\n",
      "password-related       6.333333\n",
      "rebellious-rude        6.363636\n",
      "simple-alphanumeric    5.934426\n",
      "sport                  6.513514\n",
      "Name: password, dtype: float64\n"
     ]
    }
   ],
   "source": [
    "# Your answer here\n",
    "unique_passwords_per_category = df.groupby('category')['password'].nunique()\n",
    "average_length_per_category = df.groupby('category')['password'].apply(lambda x: x.str.len().mean())\n",
    "\n",
    "print(\"Unique passwords per category:\\n\", unique_passwords_per_category)\n",
    "print(\"\\nAverage length of passwords per category:\\n\", average_length_per_category)"
   ]
  },
  {
   "cell_type": "markdown",
   "metadata": {},
   "source": [
    "12. What is the median rank and strength for passwords of each length?"
   ]
  },
  {
   "cell_type": "code",
   "execution_count": 90,
   "metadata": {},
   "outputs": [
    {
     "name": "stdout",
     "output_type": "stream",
     "text": [
      "Median rank and strength for passwords of each length:\n",
      "            rank  strength\n",
      "password                 \n",
      "4         326.0       6.0\n",
      "5         343.0       7.0\n",
      "6         231.0       7.0\n",
      "7         222.0       8.0\n",
      "8         286.0       8.0\n",
      "9          49.0       4.0\n"
     ]
    }
   ],
   "source": [
    "# Your answer here\n",
    "\n",
    "median_rank_strength = df.groupby(df['password'].str.len()).agg({'rank': 'median', 'strength': 'median'})\n",
    "\n",
    "print(\"Median rank and strength for passwords of each length:\\n\", median_rank_strength)"
   ]
  },
  {
   "cell_type": "markdown",
   "metadata": {},
   "source": [
    "13. Add a column `strength_label` with values `weak` if strength is below 5, else `strong`. Use a lambda function."
   ]
  },
  {
   "cell_type": "code",
   "execution_count": 93,
   "metadata": {},
   "outputs": [
    {
     "data": {
      "text/html": [
       "<div>\n",
       "<style scoped>\n",
       "    .dataframe tbody tr th:only-of-type {\n",
       "        vertical-align: middle;\n",
       "    }\n",
       "\n",
       "    .dataframe tbody tr th {\n",
       "        vertical-align: top;\n",
       "    }\n",
       "\n",
       "    .dataframe thead th {\n",
       "        text-align: right;\n",
       "    }\n",
       "</style>\n",
       "<table border=\"1\" class=\"dataframe\">\n",
       "  <thead>\n",
       "    <tr style=\"text-align: right;\">\n",
       "      <th></th>\n",
       "      <th>rank</th>\n",
       "      <th>password</th>\n",
       "      <th>category</th>\n",
       "      <th>value</th>\n",
       "      <th>time_unit</th>\n",
       "      <th>offline_crack_sec</th>\n",
       "      <th>rank_alt</th>\n",
       "      <th>strength</th>\n",
       "      <th>font_size</th>\n",
       "      <th>value_in_hours</th>\n",
       "      <th>strength_label</th>\n",
       "    </tr>\n",
       "  </thead>\n",
       "  <tbody>\n",
       "    <tr>\n",
       "      <th>0</th>\n",
       "      <td>1.0</td>\n",
       "      <td>password</td>\n",
       "      <td>password-related</td>\n",
       "      <td>6.91</td>\n",
       "      <td>years</td>\n",
       "      <td>2.170000e+00</td>\n",
       "      <td>1.0</td>\n",
       "      <td>8.0</td>\n",
       "      <td>11.0</td>\n",
       "      <td>60531.600000</td>\n",
       "      <td>strong</td>\n",
       "    </tr>\n",
       "    <tr>\n",
       "      <th>1</th>\n",
       "      <td>2.0</td>\n",
       "      <td>123456</td>\n",
       "      <td>simple-alphanumeric</td>\n",
       "      <td>18.52</td>\n",
       "      <td>minutes</td>\n",
       "      <td>1.110000e-05</td>\n",
       "      <td>2.0</td>\n",
       "      <td>4.0</td>\n",
       "      <td>8.0</td>\n",
       "      <td>0.308667</td>\n",
       "      <td>weak</td>\n",
       "    </tr>\n",
       "    <tr>\n",
       "      <th>2</th>\n",
       "      <td>3.0</td>\n",
       "      <td>12345678</td>\n",
       "      <td>simple-alphanumeric</td>\n",
       "      <td>1.29</td>\n",
       "      <td>days</td>\n",
       "      <td>1.110000e-03</td>\n",
       "      <td>3.0</td>\n",
       "      <td>4.0</td>\n",
       "      <td>8.0</td>\n",
       "      <td>30.960000</td>\n",
       "      <td>weak</td>\n",
       "    </tr>\n",
       "    <tr>\n",
       "      <th>3</th>\n",
       "      <td>4.0</td>\n",
       "      <td>1234</td>\n",
       "      <td>simple-alphanumeric</td>\n",
       "      <td>11.11</td>\n",
       "      <td>seconds</td>\n",
       "      <td>1.110000e-07</td>\n",
       "      <td>4.0</td>\n",
       "      <td>4.0</td>\n",
       "      <td>8.0</td>\n",
       "      <td>0.003086</td>\n",
       "      <td>weak</td>\n",
       "    </tr>\n",
       "    <tr>\n",
       "      <th>4</th>\n",
       "      <td>5.0</td>\n",
       "      <td>qwerty</td>\n",
       "      <td>simple-alphanumeric</td>\n",
       "      <td>3.72</td>\n",
       "      <td>days</td>\n",
       "      <td>3.210000e-03</td>\n",
       "      <td>5.0</td>\n",
       "      <td>8.0</td>\n",
       "      <td>11.0</td>\n",
       "      <td>89.280000</td>\n",
       "      <td>strong</td>\n",
       "    </tr>\n",
       "  </tbody>\n",
       "</table>\n",
       "</div>"
      ],
      "text/plain": [
       "   rank  password             category  value time_unit  offline_crack_sec  \\\n",
       "0   1.0  password     password-related   6.91     years       2.170000e+00   \n",
       "1   2.0    123456  simple-alphanumeric  18.52   minutes       1.110000e-05   \n",
       "2   3.0  12345678  simple-alphanumeric   1.29      days       1.110000e-03   \n",
       "3   4.0      1234  simple-alphanumeric  11.11   seconds       1.110000e-07   \n",
       "4   5.0    qwerty  simple-alphanumeric   3.72      days       3.210000e-03   \n",
       "\n",
       "   rank_alt  strength  font_size  value_in_hours strength_label  \n",
       "0       1.0       8.0       11.0    60531.600000         strong  \n",
       "1       2.0       4.0        8.0        0.308667           weak  \n",
       "2       3.0       4.0        8.0       30.960000           weak  \n",
       "3       4.0       4.0        8.0        0.003086           weak  \n",
       "4       5.0       8.0       11.0       89.280000         strong  "
      ]
     },
     "execution_count": 93,
     "metadata": {},
     "output_type": "execute_result"
    }
   ],
   "source": [
    "# Your answer here\n",
    "\n",
    "df['strength_label'] = df['strength'].apply(lambda x: 'weak' if x < 5 else 'strong')\n",
    "df.head()"
   ]
  },
  {
   "cell_type": "markdown",
   "metadata": {},
   "source": [
    "14. Create a column `high_value` with a value of `True` if value is in the top 10% of values in the dataset."
   ]
  },
  {
   "cell_type": "code",
   "execution_count": 95,
   "metadata": {},
   "outputs": [
    {
     "data": {
      "text/html": [
       "<div>\n",
       "<style scoped>\n",
       "    .dataframe tbody tr th:only-of-type {\n",
       "        vertical-align: middle;\n",
       "    }\n",
       "\n",
       "    .dataframe tbody tr th {\n",
       "        vertical-align: top;\n",
       "    }\n",
       "\n",
       "    .dataframe thead th {\n",
       "        text-align: right;\n",
       "    }\n",
       "</style>\n",
       "<table border=\"1\" class=\"dataframe\">\n",
       "  <thead>\n",
       "    <tr style=\"text-align: right;\">\n",
       "      <th></th>\n",
       "      <th>rank</th>\n",
       "      <th>password</th>\n",
       "      <th>category</th>\n",
       "      <th>value</th>\n",
       "      <th>time_unit</th>\n",
       "      <th>offline_crack_sec</th>\n",
       "      <th>rank_alt</th>\n",
       "      <th>strength</th>\n",
       "      <th>font_size</th>\n",
       "      <th>value_in_hours</th>\n",
       "      <th>strength_label</th>\n",
       "      <th>high_value</th>\n",
       "    </tr>\n",
       "  </thead>\n",
       "  <tbody>\n",
       "    <tr>\n",
       "      <th>0</th>\n",
       "      <td>1.0</td>\n",
       "      <td>password</td>\n",
       "      <td>password-related</td>\n",
       "      <td>6.91</td>\n",
       "      <td>years</td>\n",
       "      <td>2.170000e+00</td>\n",
       "      <td>1.0</td>\n",
       "      <td>8.0</td>\n",
       "      <td>11.0</td>\n",
       "      <td>60531.600000</td>\n",
       "      <td>strong</td>\n",
       "      <td>False</td>\n",
       "    </tr>\n",
       "    <tr>\n",
       "      <th>1</th>\n",
       "      <td>2.0</td>\n",
       "      <td>123456</td>\n",
       "      <td>simple-alphanumeric</td>\n",
       "      <td>18.52</td>\n",
       "      <td>minutes</td>\n",
       "      <td>1.110000e-05</td>\n",
       "      <td>2.0</td>\n",
       "      <td>4.0</td>\n",
       "      <td>8.0</td>\n",
       "      <td>0.308667</td>\n",
       "      <td>weak</td>\n",
       "      <td>True</td>\n",
       "    </tr>\n",
       "    <tr>\n",
       "      <th>2</th>\n",
       "      <td>3.0</td>\n",
       "      <td>12345678</td>\n",
       "      <td>simple-alphanumeric</td>\n",
       "      <td>1.29</td>\n",
       "      <td>days</td>\n",
       "      <td>1.110000e-03</td>\n",
       "      <td>3.0</td>\n",
       "      <td>4.0</td>\n",
       "      <td>8.0</td>\n",
       "      <td>30.960000</td>\n",
       "      <td>weak</td>\n",
       "      <td>False</td>\n",
       "    </tr>\n",
       "    <tr>\n",
       "      <th>3</th>\n",
       "      <td>4.0</td>\n",
       "      <td>1234</td>\n",
       "      <td>simple-alphanumeric</td>\n",
       "      <td>11.11</td>\n",
       "      <td>seconds</td>\n",
       "      <td>1.110000e-07</td>\n",
       "      <td>4.0</td>\n",
       "      <td>4.0</td>\n",
       "      <td>8.0</td>\n",
       "      <td>0.003086</td>\n",
       "      <td>weak</td>\n",
       "      <td>True</td>\n",
       "    </tr>\n",
       "    <tr>\n",
       "      <th>4</th>\n",
       "      <td>5.0</td>\n",
       "      <td>qwerty</td>\n",
       "      <td>simple-alphanumeric</td>\n",
       "      <td>3.72</td>\n",
       "      <td>days</td>\n",
       "      <td>3.210000e-03</td>\n",
       "      <td>5.0</td>\n",
       "      <td>8.0</td>\n",
       "      <td>11.0</td>\n",
       "      <td>89.280000</td>\n",
       "      <td>strong</td>\n",
       "      <td>False</td>\n",
       "    </tr>\n",
       "  </tbody>\n",
       "</table>\n",
       "</div>"
      ],
      "text/plain": [
       "   rank  password             category  value time_unit  offline_crack_sec  \\\n",
       "0   1.0  password     password-related   6.91     years       2.170000e+00   \n",
       "1   2.0    123456  simple-alphanumeric  18.52   minutes       1.110000e-05   \n",
       "2   3.0  12345678  simple-alphanumeric   1.29      days       1.110000e-03   \n",
       "3   4.0      1234  simple-alphanumeric  11.11   seconds       1.110000e-07   \n",
       "4   5.0    qwerty  simple-alphanumeric   3.72      days       3.210000e-03   \n",
       "\n",
       "   rank_alt  strength  font_size  value_in_hours strength_label  high_value  \n",
       "0       1.0       8.0       11.0    60531.600000         strong       False  \n",
       "1       2.0       4.0        8.0        0.308667           weak        True  \n",
       "2       3.0       4.0        8.0       30.960000           weak       False  \n",
       "3       4.0       4.0        8.0        0.003086           weak        True  \n",
       "4       5.0       8.0       11.0       89.280000         strong       False  "
      ]
     },
     "execution_count": 95,
     "metadata": {},
     "output_type": "execute_result"
    }
   ],
   "source": [
    "# Your answer here\n",
    "\n",
    "# Calculate the threshold for the top 10% of values\n",
    "threshold = df['value'].quantile(0.90)\n",
    "\n",
    "# Create the 'high_value' column\n",
    "df['high_value'] = df['value'] >= threshold\n",
    "df.head()"
   ]
  },
  {
   "cell_type": "markdown",
   "metadata": {},
   "source": [
    "15. Join all passwords within each `category` into a single string."
   ]
  },
  {
   "cell_type": "code",
   "execution_count": 97,
   "metadata": {},
   "outputs": [
    {
     "name": "stdout",
     "output_type": "stream",
     "text": [
      "category\n",
      "animal                 dragon monkey bigdog falcon phoenix tigers chi...\n",
      "cool-macho             mustang shadow master harley hunter ranger bus...\n",
      "fluffy                 love sunshine silver orange ginger summer prin...\n",
      "food                   pepper cheese coffee banana butter muffin hotd...\n",
      "name                   michael jennifer jordan superman thomas tigger...\n",
      "nerdy-pop              starwars computer merlin matrix snoopy boomer ...\n",
      "password-related       password letmein test pass access gateway plea...\n",
      "rebellious-rude        biteme freedom secret whatever badboy sexsex b...\n",
      "simple-alphanumeric    123456 12345678 1234 qwerty 12345 696969 abc12...\n",
      "sport                  baseball football soccer hockey dallas yankees...\n",
      "Name: password, dtype: object\n"
     ]
    }
   ],
   "source": [
    "# Your answer here\n",
    "passwords_joined = df.groupby('category')['password'].apply(lambda x: ' '.join(x))\n",
    "\n",
    "print(passwords_joined)"
   ]
  },
  {
   "cell_type": "markdown",
   "metadata": {},
   "source": [
    "**Bonus question 01**: What is the correlation between password length and strength? Create a scatter plot with regression line."
   ]
  },
  {
   "cell_type": "code",
   "execution_count": 100,
   "metadata": {},
   "outputs": [
    {
     "name": "stdout",
     "output_type": "stream",
     "text": [
      "Correlation between password length and strength: 0.26\n"
     ]
    },
    {
     "data": {
      "image/png": "[encoded data removed]",
      "text/plain": [
       "<Figure size 1000x600 with 1 Axes>"
      ]
     },
     "metadata": {},
     "output_type": "display_data"
    }
   ],
   "source": [
    "import seaborn as sns\n",
    "\n",
    "# Your answer here\n",
    "\n",
    "import matplotlib.pyplot as plt\n",
    "\n",
    "# Calculate the correlation\n",
    "correlation = df['password'].str.len().corr(df['strength'])\n",
    "print(f\"Correlation between password length and strength: {correlation:.2f}\")\n",
    "\n",
    "# Create a scatter plot with regression line\n",
    "plt.figure(figsize=(10, 6))\n",
    "sns.regplot(x=df['password'].str.len(), y=df['strength'], scatter_kws={'s': 10}, line_kws={'color': 'red'})\n",
    "plt.xlabel('Password Length')\n",
    "plt.ylabel('Strength')\n",
    "plt.title('Correlation between Password Length and Strength')\n",
    "plt.show()"
   ]
  },
  {
   "cell_type": "markdown",
   "metadata": {},
   "source": [
    "**Bonus question 02**: Find all passwords with palindromes."
   ]
  },
  {
   "cell_type": "code",
   "execution_count": 94,
   "metadata": {},
   "outputs": [
    {
     "data": {
      "text/html": [
       "<div>\n",
       "<style scoped>\n",
       "    .dataframe tbody tr th:only-of-type {\n",
       "        vertical-align: middle;\n",
       "    }\n",
       "\n",
       "    .dataframe tbody tr th {\n",
       "        vertical-align: top;\n",
       "    }\n",
       "\n",
       "    .dataframe thead th {\n",
       "        text-align: right;\n",
       "    }\n",
       "</style>\n",
       "<table border=\"1\" class=\"dataframe\">\n",
       "  <thead>\n",
       "    <tr style=\"text-align: right;\">\n",
       "      <th></th>\n",
       "      <th>rank</th>\n",
       "      <th>password</th>\n",
       "      <th>category</th>\n",
       "      <th>value</th>\n",
       "      <th>time_unit</th>\n",
       "      <th>offline_crack_sec</th>\n",
       "      <th>rank_alt</th>\n",
       "      <th>strength</th>\n",
       "      <th>font_size</th>\n",
       "      <th>value_in_hours</th>\n",
       "      <th>strength_label</th>\n",
       "    </tr>\n",
       "  </thead>\n",
       "  <tbody>\n",
       "    <tr>\n",
       "      <th>18</th>\n",
       "      <td>19.0</td>\n",
       "      <td>111111</td>\n",
       "      <td>simple-alphanumeric</td>\n",
       "      <td>18.52</td>\n",
       "      <td>minutes</td>\n",
       "      <td>1.110000e-05</td>\n",
       "      <td>19.0</td>\n",
       "      <td>0.0</td>\n",
       "      <td>0.0</td>\n",
       "      <td>0.308667</td>\n",
       "      <td>weak</td>\n",
       "    </tr>\n",
       "    <tr>\n",
       "      <th>59</th>\n",
       "      <td>60.0</td>\n",
       "      <td>666666</td>\n",
       "      <td>simple-alphanumeric</td>\n",
       "      <td>18.52</td>\n",
       "      <td>minutes</td>\n",
       "      <td>1.110000e-05</td>\n",
       "      <td>60.0</td>\n",
       "      <td>0.0</td>\n",
       "      <td>0.0</td>\n",
       "      <td>0.308667</td>\n",
       "      <td>weak</td>\n",
       "    </tr>\n",
       "    <tr>\n",
       "      <th>76</th>\n",
       "      <td>77.0</td>\n",
       "      <td>1111</td>\n",
       "      <td>simple-alphanumeric</td>\n",
       "      <td>11.11</td>\n",
       "      <td>seconds</td>\n",
       "      <td>1.110000e-07</td>\n",
       "      <td>77.0</td>\n",
       "      <td>0.0</td>\n",
       "      <td>0.0</td>\n",
       "      <td>0.003086</td>\n",
       "      <td>weak</td>\n",
       "    </tr>\n",
       "    <tr>\n",
       "      <th>105</th>\n",
       "      <td>106.0</td>\n",
       "      <td>aaaaaa</td>\n",
       "      <td>simple-alphanumeric</td>\n",
       "      <td>3.72</td>\n",
       "      <td>days</td>\n",
       "      <td>3.210000e-03</td>\n",
       "      <td>106.0</td>\n",
       "      <td>0.0</td>\n",
       "      <td>0.0</td>\n",
       "      <td>89.280000</td>\n",
       "      <td>weak</td>\n",
       "    </tr>\n",
       "    <tr>\n",
       "      <th>144</th>\n",
       "      <td>145.0</td>\n",
       "      <td>xxxxxx</td>\n",
       "      <td>simple-alphanumeric</td>\n",
       "      <td>3.72</td>\n",
       "      <td>days</td>\n",
       "      <td>3.210000e-03</td>\n",
       "      <td>145.0</td>\n",
       "      <td>0.0</td>\n",
       "      <td>0.0</td>\n",
       "      <td>89.280000</td>\n",
       "      <td>weak</td>\n",
       "    </tr>\n",
       "    <tr>\n",
       "      <th>190</th>\n",
       "      <td>191.0</td>\n",
       "      <td>hannah</td>\n",
       "      <td>name</td>\n",
       "      <td>3.72</td>\n",
       "      <td>days</td>\n",
       "      <td>3.210000e-03</td>\n",
       "      <td>192.0</td>\n",
       "      <td>0.0</td>\n",
       "      <td>0.0</td>\n",
       "      <td>89.280000</td>\n",
       "      <td>weak</td>\n",
       "    </tr>\n",
       "    <tr>\n",
       "      <th>192</th>\n",
       "      <td>193.0</td>\n",
       "      <td>11111111</td>\n",
       "      <td>simple-alphanumeric</td>\n",
       "      <td>1.29</td>\n",
       "      <td>days</td>\n",
       "      <td>1.110000e-03</td>\n",
       "      <td>194.0</td>\n",
       "      <td>0.0</td>\n",
       "      <td>0.0</td>\n",
       "      <td>30.960000</td>\n",
       "      <td>weak</td>\n",
       "    </tr>\n",
       "    <tr>\n",
       "      <th>206</th>\n",
       "      <td>207.0</td>\n",
       "      <td>7777777</td>\n",
       "      <td>simple-alphanumeric</td>\n",
       "      <td>3.09</td>\n",
       "      <td>hours</td>\n",
       "      <td>1.110000e-04</td>\n",
       "      <td>208.0</td>\n",
       "      <td>0.0</td>\n",
       "      <td>0.0</td>\n",
       "      <td>3.090000</td>\n",
       "      <td>weak</td>\n",
       "    </tr>\n",
       "    <tr>\n",
       "      <th>277</th>\n",
       "      <td>278.0</td>\n",
       "      <td>222222</td>\n",
       "      <td>simple-alphanumeric</td>\n",
       "      <td>18.52</td>\n",
       "      <td>minutes</td>\n",
       "      <td>1.110000e-05</td>\n",
       "      <td>279.0</td>\n",
       "      <td>0.0</td>\n",
       "      <td>0.0</td>\n",
       "      <td>0.308667</td>\n",
       "      <td>weak</td>\n",
       "    </tr>\n",
       "    <tr>\n",
       "      <th>285</th>\n",
       "      <td>286.0</td>\n",
       "      <td>xxxxxxxx</td>\n",
       "      <td>simple-alphanumeric</td>\n",
       "      <td>6.91</td>\n",
       "      <td>years</td>\n",
       "      <td>2.170000e+00</td>\n",
       "      <td>287.0</td>\n",
       "      <td>0.0</td>\n",
       "      <td>0.0</td>\n",
       "      <td>60531.600000</td>\n",
       "      <td>weak</td>\n",
       "    </tr>\n",
       "    <tr>\n",
       "      <th>286</th>\n",
       "      <td>287.0</td>\n",
       "      <td>777777</td>\n",
       "      <td>simple-alphanumeric</td>\n",
       "      <td>18.52</td>\n",
       "      <td>minutes</td>\n",
       "      <td>1.110000e-05</td>\n",
       "      <td>288.0</td>\n",
       "      <td>0.0</td>\n",
       "      <td>0.0</td>\n",
       "      <td>0.308667</td>\n",
       "      <td>weak</td>\n",
       "    </tr>\n",
       "    <tr>\n",
       "      <th>291</th>\n",
       "      <td>292.0</td>\n",
       "      <td>88888888</td>\n",
       "      <td>simple-alphanumeric</td>\n",
       "      <td>1.29</td>\n",
       "      <td>days</td>\n",
       "      <td>1.110000e-03</td>\n",
       "      <td>293.0</td>\n",
       "      <td>0.0</td>\n",
       "      <td>0.0</td>\n",
       "      <td>30.960000</td>\n",
       "      <td>weak</td>\n",
       "    </tr>\n",
       "    <tr>\n",
       "      <th>314</th>\n",
       "      <td>315.0</td>\n",
       "      <td>2112</td>\n",
       "      <td>simple-alphanumeric</td>\n",
       "      <td>11.11</td>\n",
       "      <td>seconds</td>\n",
       "      <td>1.110000e-07</td>\n",
       "      <td>316.0</td>\n",
       "      <td>1.0</td>\n",
       "      <td>4.0</td>\n",
       "      <td>0.003086</td>\n",
       "      <td>weak</td>\n",
       "    </tr>\n",
       "    <tr>\n",
       "      <th>324</th>\n",
       "      <td>325.0</td>\n",
       "      <td>7777</td>\n",
       "      <td>simple-alphanumeric</td>\n",
       "      <td>11.11</td>\n",
       "      <td>seconds</td>\n",
       "      <td>1.110000e-07</td>\n",
       "      <td>326.0</td>\n",
       "      <td>0.0</td>\n",
       "      <td>0.0</td>\n",
       "      <td>0.003086</td>\n",
       "      <td>weak</td>\n",
       "    </tr>\n",
       "    <tr>\n",
       "      <th>352</th>\n",
       "      <td>353.0</td>\n",
       "      <td>zzzzzz</td>\n",
       "      <td>simple-alphanumeric</td>\n",
       "      <td>3.72</td>\n",
       "      <td>days</td>\n",
       "      <td>3.210000e-03</td>\n",
       "      <td>354.0</td>\n",
       "      <td>0.0</td>\n",
       "      <td>0.0</td>\n",
       "      <td>89.280000</td>\n",
       "      <td>weak</td>\n",
       "    </tr>\n",
       "    <tr>\n",
       "      <th>364</th>\n",
       "      <td>365.0</td>\n",
       "      <td>555555</td>\n",
       "      <td>simple-alphanumeric</td>\n",
       "      <td>18.52</td>\n",
       "      <td>minutes</td>\n",
       "      <td>1.110000e-05</td>\n",
       "      <td>366.0</td>\n",
       "      <td>0.0</td>\n",
       "      <td>0.0</td>\n",
       "      <td>0.308667</td>\n",
       "      <td>weak</td>\n",
       "    </tr>\n",
       "    <tr>\n",
       "      <th>371</th>\n",
       "      <td>372.0</td>\n",
       "      <td>2222</td>\n",
       "      <td>simple-alphanumeric</td>\n",
       "      <td>11.11</td>\n",
       "      <td>seconds</td>\n",
       "      <td>1.110000e-07</td>\n",
       "      <td>373.0</td>\n",
       "      <td>0.0</td>\n",
       "      <td>0.0</td>\n",
       "      <td>0.003086</td>\n",
       "      <td>weak</td>\n",
       "    </tr>\n",
       "    <tr>\n",
       "      <th>373</th>\n",
       "      <td>374.0</td>\n",
       "      <td>4444</td>\n",
       "      <td>simple-alphanumeric</td>\n",
       "      <td>11.11</td>\n",
       "      <td>seconds</td>\n",
       "      <td>1.110000e-07</td>\n",
       "      <td>375.0</td>\n",
       "      <td>0.0</td>\n",
       "      <td>0.0</td>\n",
       "      <td>0.003086</td>\n",
       "      <td>weak</td>\n",
       "    </tr>\n",
       "    <tr>\n",
       "      <th>409</th>\n",
       "      <td>410.0</td>\n",
       "      <td>11111</td>\n",
       "      <td>simple-alphanumeric</td>\n",
       "      <td>1.85</td>\n",
       "      <td>minutes</td>\n",
       "      <td>1.110000e-06</td>\n",
       "      <td>411.0</td>\n",
       "      <td>0.0</td>\n",
       "      <td>0.0</td>\n",
       "      <td>0.030833</td>\n",
       "      <td>weak</td>\n",
       "    </tr>\n",
       "    <tr>\n",
       "      <th>413</th>\n",
       "      <td>414.0</td>\n",
       "      <td>123321</td>\n",
       "      <td>simple-alphanumeric</td>\n",
       "      <td>18.52</td>\n",
       "      <td>minutes</td>\n",
       "      <td>1.110000e-05</td>\n",
       "      <td>415.0</td>\n",
       "      <td>4.0</td>\n",
       "      <td>8.0</td>\n",
       "      <td>0.308667</td>\n",
       "      <td>weak</td>\n",
       "    </tr>\n",
       "    <tr>\n",
       "      <th>420</th>\n",
       "      <td>421.0</td>\n",
       "      <td>999999</td>\n",
       "      <td>simple-alphanumeric</td>\n",
       "      <td>18.52</td>\n",
       "      <td>minutes</td>\n",
       "      <td>1.110000e-05</td>\n",
       "      <td>422.0</td>\n",
       "      <td>0.0</td>\n",
       "      <td>0.0</td>\n",
       "      <td>0.308667</td>\n",
       "      <td>weak</td>\n",
       "    </tr>\n",
       "    <tr>\n",
       "      <th>458</th>\n",
       "      <td>459.0</td>\n",
       "      <td>333333</td>\n",
       "      <td>simple-alphanumeric</td>\n",
       "      <td>18.52</td>\n",
       "      <td>minutes</td>\n",
       "      <td>1.110000e-05</td>\n",
       "      <td>461.0</td>\n",
       "      <td>0.0</td>\n",
       "      <td>0.0</td>\n",
       "      <td>0.308667</td>\n",
       "      <td>weak</td>\n",
       "    </tr>\n",
       "    <tr>\n",
       "      <th>472</th>\n",
       "      <td>473.0</td>\n",
       "      <td>xxxx</td>\n",
       "      <td>simple-alphanumeric</td>\n",
       "      <td>7.92</td>\n",
       "      <td>minutes</td>\n",
       "      <td>4.750000e-06</td>\n",
       "      <td>475.0</td>\n",
       "      <td>0.0</td>\n",
       "      <td>0.0</td>\n",
       "      <td>0.132000</td>\n",
       "      <td>weak</td>\n",
       "    </tr>\n",
       "    <tr>\n",
       "      <th>489</th>\n",
       "      <td>490.0</td>\n",
       "      <td>888888</td>\n",
       "      <td>simple-alphanumeric</td>\n",
       "      <td>18.52</td>\n",
       "      <td>minutes</td>\n",
       "      <td>1.110000e-05</td>\n",
       "      <td>492.0</td>\n",
       "      <td>0.0</td>\n",
       "      <td>0.0</td>\n",
       "      <td>0.308667</td>\n",
       "      <td>weak</td>\n",
       "    </tr>\n",
       "  </tbody>\n",
       "</table>\n",
       "</div>"
      ],
      "text/plain": [
       "      rank  password             category  value time_unit  offline_crack_sec  \\\n",
       "18    19.0    111111  simple-alphanumeric  18.52   minutes       1.110000e-05   \n",
       "59    60.0    666666  simple-alphanumeric  18.52   minutes       1.110000e-05   \n",
       "76    77.0      1111  simple-alphanumeric  11.11   seconds       1.110000e-07   \n",
       "105  106.0    aaaaaa  simple-alphanumeric   3.72      days       3.210000e-03   \n",
       "144  145.0    xxxxxx  simple-alphanumeric   3.72      days       3.210000e-03   \n",
       "190  191.0    hannah                 name   3.72      days       3.210000e-03   \n",
       "192  193.0  11111111  simple-alphanumeric   1.29      days       1.110000e-03   \n",
       "206  207.0   7777777  simple-alphanumeric   3.09     hours       1.110000e-04   \n",
       "277  278.0    222222  simple-alphanumeric  18.52   minutes       1.110000e-05   \n",
       "285  286.0  xxxxxxxx  simple-alphanumeric   6.91     years       2.170000e+00   \n",
       "286  287.0    777777  simple-alphanumeric  18.52   minutes       1.110000e-05   \n",
       "291  292.0  88888888  simple-alphanumeric   1.29      days       1.110000e-03   \n",
       "314  315.0      2112  simple-alphanumeric  11.11   seconds       1.110000e-07   \n",
       "324  325.0      7777  simple-alphanumeric  11.11   seconds       1.110000e-07   \n",
       "352  353.0    zzzzzz  simple-alphanumeric   3.72      days       3.210000e-03   \n",
       "364  365.0    555555  simple-alphanumeric  18.52   minutes       1.110000e-05   \n",
       "371  372.0      2222  simple-alphanumeric  11.11   seconds       1.110000e-07   \n",
       "373  374.0      4444  simple-alphanumeric  11.11   seconds       1.110000e-07   \n",
       "409  410.0     11111  simple-alphanumeric   1.85   minutes       1.110000e-06   \n",
       "413  414.0    123321  simple-alphanumeric  18.52   minutes       1.110000e-05   \n",
       "420  421.0    999999  simple-alphanumeric  18.52   minutes       1.110000e-05   \n",
       "458  459.0    333333  simple-alphanumeric  18.52   minutes       1.110000e-05   \n",
       "472  473.0      xxxx  simple-alphanumeric   7.92   minutes       4.750000e-06   \n",
       "489  490.0    888888  simple-alphanumeric  18.52   minutes       1.110000e-05   \n",
       "\n",
       "     rank_alt  strength  font_size  value_in_hours strength_label  \n",
       "18       19.0       0.0        0.0        0.308667           weak  \n",
       "59       60.0       0.0        0.0        0.308667           weak  \n",
       "76       77.0       0.0        0.0        0.003086           weak  \n",
       "105     106.0       0.0        0.0       89.280000           weak  \n",
       "144     145.0       0.0        0.0       89.280000           weak  \n",
       "190     192.0       0.0        0.0       89.280000           weak  \n",
       "192     194.0       0.0        0.0       30.960000           weak  \n",
       "206     208.0       0.0        0.0        3.090000           weak  \n",
       "277     279.0       0.0        0.0        0.308667           weak  \n",
       "285     287.0       0.0        0.0    60531.600000           weak  \n",
       "286     288.0       0.0        0.0        0.308667           weak  \n",
       "291     293.0       0.0        0.0       30.960000           weak  \n",
       "314     316.0       1.0        4.0        0.003086           weak  \n",
       "324     326.0       0.0        0.0        0.003086           weak  \n",
       "352     354.0       0.0        0.0       89.280000           weak  \n",
       "364     366.0       0.0        0.0        0.308667           weak  \n",
       "371     373.0       0.0        0.0        0.003086           weak  \n",
       "373     375.0       0.0        0.0        0.003086           weak  \n",
       "409     411.0       0.0        0.0        0.030833           weak  \n",
       "413     415.0       4.0        8.0        0.308667           weak  \n",
       "420     422.0       0.0        0.0        0.308667           weak  \n",
       "458     461.0       0.0        0.0        0.308667           weak  \n",
       "472     475.0       0.0        0.0        0.132000           weak  \n",
       "489     492.0       0.0        0.0        0.308667           weak  "
      ]
     },
     "execution_count": 94,
     "metadata": {},
     "output_type": "execute_result"
    }
   ],
   "source": [
    "# Your answer here\n",
    "\n",
    "def is_palindrome(s):\n",
    "    if len(s) <= 1:\n",
    "        return True\n",
    "    if s[0] != s[-1]:\n",
    "        return False\n",
    "    return is_palindrome(s[1:-1])\n",
    "\n",
    "palindromic_passwords = df[df['password'].apply(is_palindrome)]\n",
    "palindromic_passwords"
   ]
  }
 ],
 "metadata": {
  "kernelspec": {
   "display_name": "base",
   "language": "python",
   "name": "python3"
  },
  "language_info": {
   "codemirror_mode": {
    "name": "ipython",
    "version": 3
   },
   "file_extension": ".py",
   "mimetype": "text/x-python",
   "name": "python",
   "nbconvert_exporter": "python",
   "pygments_lexer": "ipython3",
   "version": "3.11.5"
  }
 },
 "nbformat": 4,
 "nbformat_minor": 2
}
